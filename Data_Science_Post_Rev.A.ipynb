{
 "cells": [
  {
   "cell_type": "markdown",
   "id": "25686c50",
   "metadata": {},
   "source": [
    "# Data Science Blog Notebook - Stack Overflow Data"
   ]
  },
  {
   "cell_type": "markdown",
   "id": "409ad151",
   "metadata": {},
   "source": [
    "In this work, I intend to take a closer look on the relation between a developer's profile and his/her income, as well as what characteristics people think could provide them with a better financial response from the market. "
   ]
  },
  {
   "cell_type": "code",
   "execution_count": 3,
   "id": "b5ad8a91",
   "metadata": {},
   "outputs": [],
   "source": [
    "import numpy as np\n",
    "import pandas as pd\n",
    "import scipy as sp\n",
    "import matplotlib.pyplot as plt\n",
    "from sklearn.linear_model import LinearRegression\n",
    "from sklearn.model_selection import train_test_split\n",
    "from sklearn.metrics import r2_score, mean_squared_error\n",
    "import seaborn as sns\n",
    "%matplotlib inline\n",
    "\n",
    "df_d = pd.read_csv('../Data_Science_Post/survey_results_public.csv')\n",
    "df_q = pd.read_csv('../Data_Science_Post/survey_results_schema.csv')\n",
    "df_d.set_index('Respondent',inplace=True)\n",
    "df_q.set_index('Column',inplace=True)\n"
   ]
  },
  {
   "cell_type": "markdown",
   "id": "c4a88f2b",
   "metadata": {},
   "source": [
    "### Functions"
   ]
  },
  {
   "cell_type": "markdown",
   "id": "13998018",
   "metadata": {},
   "source": [
    "Since I ran into an error trying to import a python file with de functions I would use for the analysis, I had to work around it by defining the needed functions on this section:"
   ]
  },
  {
   "cell_type": "code",
   "execution_count": 4,
   "id": "9288e08a",
   "metadata": {},
   "outputs": [],
   "source": [
    "def des_var(ind_var,dep_var):\n",
    "    '''\n",
    "    INPUT:\n",
    "    ind_var - list with dependent variables of interest\n",
    "    dep_var - list with independent variables of interest\n",
    "    \n",
    "    OUTPUT:\n",
    "    new_df - a dataframe of each look_for with the count of how often it shows up\n",
    "    '''\n",
    "    \n",
    "    print('Independent Variables\\n')\n",
    "    for entry in ind_var:\n",
    "        text = df_q.loc[entry]\n",
    "        pd.options.display.max_colwidth = len(text)\n",
    "        print(f'{entry}: {text[0]}')    \n",
    "    print('\\n-----------------------------------------------------\\n')\n",
    "    print('Dependent Variables\\n')\n",
    "    for entry in dep_var:\n",
    "        text = df_q.loc[entry]\n",
    "        pd.options.display.max_colwidth = len(text)\n",
    "        print(f'{entry}: {text[0]}')"
   ]
  },
  {
   "cell_type": "code",
   "execution_count": 3,
   "id": "83e63719",
   "metadata": {},
   "outputs": [],
   "source": [
    "def create_dummy_df(df, cat_cols, dummy_na):\n",
    "    '''\n",
    "    INPUT:\n",
    "    df - pandas dataframe with categorical variables you want to dummy\n",
    "    cat_cols - list of strings that are associated with names of the categorical columns\n",
    "    dummy_na - Bool holding whether you want to dummy NA vals of categorical columns or not\n",
    "    \n",
    "    OUTPUT:\n",
    "    df - a new dataframe that has the following characteristics:\n",
    "            1. contains all columns that were not specified as categorical\n",
    "            2. removes all the original columns in cat_cols\n",
    "            3. dummy columns for each of the categorical columns in cat_cols\n",
    "            4. if dummy_na is True - it also contains dummy columns for the NaN values\n",
    "            5. Use a prefix of the column name with an underscore (_) for separating \n",
    "    '''\n",
    "    for col in  cat_cols:\n",
    "        try:\n",
    "            # for each cat add dummy var, drop original column\n",
    "            df = pd.concat([df.drop(col, axis=1), pd.get_dummies(df[col], prefix=col, prefix_sep='_', drop_first=False, dummy_na=dummy_na)], axis=1)\n",
    "        except:\n",
    "            continue\n",
    "\n",
    "#     df_non_cat = df[list(set(df.columns)-set(cat_cols))]\n",
    "#     dummies = pd.get_dummies(df[list(cat_cols)], drop_first = True, dummy_na=dummy_na)\n",
    "#     df = pd.concat([df_non_cat,dummies],axis = 1)\n",
    "    \n",
    "    \n",
    "    return df"
   ]
  },
  {
   "cell_type": "code",
   "execution_count": 4,
   "id": "cb713080",
   "metadata": {},
   "outputs": [],
   "source": [
    "def find_optimal_lm_mod(X, y, cutoffs, test_size=.30, random_state=42, plot=True):\n",
    "    '''\n",
    "    INPUT\n",
    "    X - pandas dataframe, X matrix\n",
    "    y - pandas dataframe, response variable\n",
    "    cutoffs - list of ints, cutoff for number of non-zero values in dummy categorical vars\n",
    "    test_size - float between 0 and 1, default 0.3, determines the proportion of data as test data\n",
    "    random_state - int, default 42, controls random state for train_test_split\n",
    "    plot - boolean, default 0.3, True to plot result\n",
    "\n",
    "    OUTPUT\n",
    "    r2_scores_test - list of floats of r2 scores on the test data\n",
    "    r2_scores_train - list of floats of r2 scores on the train data\n",
    "    lm_model - model object from sklearn\n",
    "    X_train, X_test, y_train, y_test - output from sklearn train test split used for optimal model\n",
    "    '''\n",
    "    r2_scores_test, r2_scores_train, num_feats, results = [], [], [], dict()\n",
    "    for cutoff in cutoffs:\n",
    "        # reduce X matrix\n",
    "        reduce_X = X.iloc[:, np.where((X.sum() > cutoff) == True)[0]]\n",
    "        num_feats.append(reduce_X.shape[1])\n",
    "\n",
    "        # split the data into train and test\n",
    "        X_train, X_test, y_train, y_test = train_test_split(reduce_X, y, test_size=test_size, random_state=random_state)\n",
    "\n",
    "        # fit the model and obtain pred response\n",
    "        lm_model = LinearRegression(normalize=True)\n",
    "        lm_model.fit(X_train, y_train)\n",
    "        y_test_preds = lm_model.predict(X_test)\n",
    "        y_train_preds = lm_model.predict(X_train)\n",
    "\n",
    "        # append the r2 value from the test set\n",
    "        r2_scores_test.append(r2_score(y_test, y_test_preds))\n",
    "        r2_scores_train.append(r2_score(y_train, y_train_preds))\n",
    "        results[str(cutoff)] = r2_score(y_test, y_test_preds)\n",
    "\n",
    "    if plot:\n",
    "        plt.plot(num_feats, r2_scores_test, label=\"Test\", alpha=.5)\n",
    "        plt.plot(num_feats, r2_scores_train, label=\"Train\", alpha=.5)\n",
    "        plt.xlabel('Number of Features')\n",
    "        plt.ylabel('Rsquared')\n",
    "        plt.title('Rsquared by Number of Features')\n",
    "        plt.legend(loc=1)\n",
    "        plt.show()\n",
    "\n",
    "    best_cutoff = max(results, key=results.get)\n",
    "\n",
    "    # reduce X matrix\n",
    "    reduce_X = X.iloc[:, np.where((X.sum() > int(best_cutoff)) == True)[0]]\n",
    "    num_feats.append(reduce_X.shape[1])\n",
    "\n",
    "    # split the data into train and test\n",
    "    X_train, X_test, y_train, y_test = train_test_split(reduce_X, y, test_size=test_size, random_state=random_state)\n",
    "\n",
    "    # fit the model\n",
    "    lm_model = LinearRegression(normalize=True)\n",
    "    lm_model.fit(X_train, y_train)\n",
    "\n",
    "    return r2_scores_test, r2_scores_train, lm_model, X_train, X_test, y_train, y_test"
   ]
  },
  {
   "cell_type": "code",
   "execution_count": 5,
   "id": "7fdb5bf3",
   "metadata": {},
   "outputs": [],
   "source": [
    "def coef_weights(coefficients, X_train):\n",
    "    '''\n",
    "    INPUT:\n",
    "    coefficients - the coefficients of the linear model \n",
    "    X_train - the training data, so the column names can be used\n",
    "    OUTPUT:\n",
    "    coefs_df - a dataframe holding the coefficient, estimate, and abs(estimate)\n",
    "    \n",
    "    Provides a dataframe that can be used to understand the most influential coefficients\n",
    "    in a linear model by providing the coefficient estimates along with the name of the \n",
    "    variable attached to the coefficient.\n",
    "    '''\n",
    "    coefs_df = pd.DataFrame()\n",
    "    coefs_df['est_int'] = X_train.columns\n",
    "    coefs_df['coefs'] = lm_model.coef_\n",
    "    coefs_df['abs_coefs'] = np.abs(lm_model.coef_)\n",
    "    coefs_df = coefs_df.sort_values('abs_coefs', ascending=False)\n",
    "    return coefs_df"
   ]
  },
  {
   "cell_type": "markdown",
   "id": "1a5a96da",
   "metadata": {},
   "source": [
    "#### CRISP-DM: Business Understanding\n",
    "\n",
    "Thinking about the types of questions that could shine a light on the developer career for a new professional."
   ]
  },
  {
   "cell_type": "markdown",
   "id": "f3e5f977",
   "metadata": {},
   "source": [
    "### Ideas:\n",
    "\n",
    "1. How well analytical and methodical thinkers do financially as developers?\n",
    "2. Do satisfaction levels relates to the idea of being well paid?\n",
    "3. Do people who value a high level of security in a job feel that way because they are being better paid?"
   ]
  },
  {
   "cell_type": "markdown",
   "id": "0691a2db",
   "metadata": {},
   "source": [
    "#### CRISP-DM: Data Understanding\n",
    "\n",
    "Looking at the data and what it means in order to get a better grasp on how to answer the proposed questions."
   ]
  },
  {
   "cell_type": "markdown",
   "id": "43dafc0c",
   "metadata": {},
   "source": [
    "Target variables used for the analysis:"
   ]
  },
  {
   "cell_type": "code",
   "execution_count": 1,
   "id": "bc275f96",
   "metadata": {
    "scrolled": true
   },
   "outputs": [],
   "source": [
    "X_var = ['ProblemSolving','BoringDetails','JobSecurity','Overpaid','DifficultCommunication','HighestEducationParents','Country','SeriousWork','RightWrongWay','EnjoyDebugging',] #Independent Variables\n",
    "y_var = ['CareerSatisfaction','JobSatisfaction','Salary',]"
   ]
  },
  {
   "cell_type": "code",
   "execution_count": 5,
   "id": "621839bd",
   "metadata": {},
   "outputs": [
    {
     "name": "stdout",
     "output_type": "stream",
     "text": [
      "Independent Variables\n",
      "\n",
      "JobSecurity: Job security is important to me\n",
      "\n",
      "-----------------------------------------------------\n",
      "\n",
      "Dependent Variables\n",
      "\n",
      "Salary: What is your current annual base salary, before taxes, and excluding bonuses, grants, or other compensation?\n"
     ]
    }
   ],
   "source": [
    "# This cell is here just to help me keep track of the variables I would work throughout the assignment.\n",
    "\n",
    "q1_X = ['BoringDetails','ProblemSolving','EnjoyDebugging','RightWrongWay']\n",
    "q1_y = ['Salary']\n",
    "q2_X = ['JobSatisfaction','CareerSatisfaction']\n",
    "q2_y = ['Overpaid']\n",
    "q3_X = ['JobSecurity']\n",
    "q3_y_1 = ['Salary']\n",
    "q3_y_2 = ['Overpaid']\n",
    "\n",
    "des_var(q3_X,q3_y_1)"
   ]
  },
  {
   "cell_type": "markdown",
   "id": "660825f4",
   "metadata": {},
   "source": [
    "### 1st Question: How well analytical and methodical developers do financially?"
   ]
  },
  {
   "cell_type": "markdown",
   "id": "6d2c5899",
   "metadata": {},
   "source": [
    "#### CRISP-DM: Prepare Data\n",
    "\n",
    "Obtaining, preparing and formatting the data to be able to answer the proposed questions."
   ]
  },
  {
   "cell_type": "code",
   "execution_count": 8,
   "id": "044940bc",
   "metadata": {},
   "outputs": [],
   "source": [
    "# Creating the base dataframe:\n",
    "q1 = set(q1_X)|set(q1_y)\n",
    "df1 = df_d[q1]"
   ]
  },
  {
   "cell_type": "code",
   "execution_count": 9,
   "id": "c465698a",
   "metadata": {},
   "outputs": [],
   "source": [
    "# Dropping columns where all the values are null:\n",
    "df1_no_nan = df1.dropna(axis=0,how='all')"
   ]
  },
  {
   "cell_type": "code",
   "execution_count": 10,
   "id": "971f5180",
   "metadata": {},
   "outputs": [],
   "source": [
    "# Dropping columns where the salary is not provided:\n",
    "sal_no_nan = df1_no_nan.dropna(subset=['Salary'],axis=0)"
   ]
  },
  {
   "cell_type": "code",
   "execution_count": 11,
   "id": "935908e0",
   "metadata": {},
   "outputs": [],
   "source": [
    "# Most relevant independent variables: \"BoringDetails\" and \"EnjoyDebugging\" (Must be dropped if NaN):\n",
    "rel_var = ['BoringDetails','EnjoyDebugging']"
   ]
  },
  {
   "cell_type": "code",
   "execution_count": 12,
   "id": "9905632d",
   "metadata": {},
   "outputs": [],
   "source": [
    "# Dropping rows where relevant ind. variables are NaN:\n",
    "data_q1 = sal_no_nan.dropna(subset=rel_var,axis=0,how='any')"
   ]
  },
  {
   "cell_type": "code",
   "execution_count": 13,
   "id": "2a97153c",
   "metadata": {},
   "outputs": [
    {
     "name": "stdout",
     "output_type": "stream",
     "text": [
      "11,25\n"
     ]
    }
   ],
   "source": [
    "# Check of how many NaN entries are in the remaining dependent variables \"ProblemSolving\" and \"RightWrongWay\"\n",
    "print(data_q1['ProblemSolving'].isnull().sum(),data_q1['RightWrongWay'].isnull().sum(),sep=',')"
   ]
  },
  {
   "cell_type": "markdown",
   "id": "6bbda514",
   "metadata": {},
   "source": [
    "Since the entire database is comprised of 5844 values, I will assume that dropping between 25 to 36 values does not result in a considerable loss in the analysis:"
   ]
  },
  {
   "cell_type": "code",
   "execution_count": 14,
   "id": "0c9812e7",
   "metadata": {},
   "outputs": [],
   "source": [
    "# Droping NaN values from \"ProblemSolving\" ad \"RightWrongWay\":\n",
    "df_q1 = data_q1.dropna(subset=['ProblemSolving','RightWrongWay'],axis=0,how='any')"
   ]
  },
  {
   "cell_type": "markdown",
   "id": "bd2674eb",
   "metadata": {},
   "source": [
    "With that, the database has been cleared of NaN entries."
   ]
  },
  {
   "cell_type": "markdown",
   "id": "05e7a84d",
   "metadata": {},
   "source": [
    "#### CRISP-DM: Data Modelling\n",
    "\n",
    "Creation of a data model in order to extract the results."
   ]
  },
  {
   "cell_type": "code",
   "execution_count": 15,
   "id": "fbcb0009",
   "metadata": {},
   "outputs": [],
   "source": [
    "# Creating the dummy columns:\n",
    "df1_dummy = create_dummy_df(df_q1,q1_X,False)"
   ]
  },
  {
   "cell_type": "code",
   "execution_count": 16,
   "id": "1209f197",
   "metadata": {},
   "outputs": [
    {
     "data": {
      "image/png": "[encoded data removed]",
      "text/plain": [
       "<Figure size 432x288 with 1 Axes>"
      ]
     },
     "metadata": {
      "needs_background": "light"
     },
     "output_type": "display_data"
    }
   ],
   "source": [
    "# Setting the dependent and independent input dataframes for the Linear Regression models:\n",
    "X1 = df1_dummy.drop(labels=['Salary'],axis=1)\n",
    "y1 = df1_dummy['Salary']\n",
    "\n",
    "# Obtaining the optimal linear model:\n",
    "cutoffs = [2000, 1500,1250,1000,750,500,250, 100, 50,40,30,20,10,5,0]\n",
    "r2_scores_test, r2_scores_train, lm_model, X_train, X_test, y_train, y_test = find_optimal_lm_mod(X1, y1, cutoffs)\n"
   ]
  },
  {
   "cell_type": "code",
   "execution_count": 17,
   "id": "4b40f0cb",
   "metadata": {
    "scrolled": true
   },
   "outputs": [
    {
     "name": "stdout",
     "output_type": "stream",
     "text": [
      "0.05339094380285536 0.056994415833989565\n"
     ]
    }
   ],
   "source": [
    "# Using the best values for Number of Features in order to maximize the R2 value (Check):\n",
    "y_test_preds = lm_model.predict(X_test)\n",
    "y_train_preds = lm_model.predict(X_train)\n",
    "print(r2_score(y_test,y_test_preds),r2_score(y_train,y_train_preds))"
   ]
  },
  {
   "cell_type": "markdown",
   "id": "145e83de",
   "metadata": {},
   "source": [
    "#### CRISP-DM: Evaluate the Results\n",
    "\n",
    "Having the results in hand, we are able evaluate the results and extract conclusions from them."
   ]
  },
  {
   "cell_type": "code",
   "execution_count": 18,
   "id": "3433c29d",
   "metadata": {},
   "outputs": [
    {
     "data": {
      "text/html": [
       "<div>\n",
       "<style scoped>\n",
       "    .dataframe tbody tr th:only-of-type {\n",
       "        vertical-align: middle;\n",
       "    }\n",
       "\n",
       "    .dataframe tbody tr th {\n",
       "        vertical-align: top;\n",
       "    }\n",
       "\n",
       "    .dataframe thead th {\n",
       "        text-align: right;\n",
       "    }\n",
       "</style>\n",
       "<table border=\"1\" class=\"dataframe\">\n",
       "  <thead>\n",
       "    <tr style=\"text-align: right;\">\n",
       "      <th></th>\n",
       "      <th>est_int</th>\n",
       "      <th>coefs</th>\n",
       "      <th>abs_coefs</th>\n",
       "    </tr>\n",
       "  </thead>\n",
       "  <tbody>\n",
       "    <tr>\n",
       "      <th>3</th>\n",
       "      <td>BoringDetails_Strongly agree</td>\n",
       "      <td>-1.517305e+17</td>\n",
       "      <td>1.517305e+17</td>\n",
       "    </tr>\n",
       "    <tr>\n",
       "      <th>0</th>\n",
       "      <td>BoringDetails_Agree</td>\n",
       "      <td>-1.517305e+17</td>\n",
       "      <td>1.517305e+17</td>\n",
       "    </tr>\n",
       "    <tr>\n",
       "      <th>2</th>\n",
       "      <td>BoringDetails_Somewhat agree</td>\n",
       "      <td>-1.517305e+17</td>\n",
       "      <td>1.517305e+17</td>\n",
       "    </tr>\n",
       "    <tr>\n",
       "      <th>1</th>\n",
       "      <td>BoringDetails_Disagree</td>\n",
       "      <td>-1.517305e+17</td>\n",
       "      <td>1.517305e+17</td>\n",
       "    </tr>\n",
       "    <tr>\n",
       "      <th>4</th>\n",
       "      <td>BoringDetails_Strongly disagree</td>\n",
       "      <td>-1.517305e+17</td>\n",
       "      <td>1.517305e+17</td>\n",
       "    </tr>\n",
       "    <tr>\n",
       "      <th>12</th>\n",
       "      <td>EnjoyDebugging_Strongly disagree</td>\n",
       "      <td>-1.320976e+17</td>\n",
       "      <td>1.320976e+17</td>\n",
       "    </tr>\n",
       "    <tr>\n",
       "      <th>8</th>\n",
       "      <td>EnjoyDebugging_Agree</td>\n",
       "      <td>-1.320976e+17</td>\n",
       "      <td>1.320976e+17</td>\n",
       "    </tr>\n",
       "    <tr>\n",
       "      <th>10</th>\n",
       "      <td>EnjoyDebugging_Somewhat agree</td>\n",
       "      <td>-1.320976e+17</td>\n",
       "      <td>1.320976e+17</td>\n",
       "    </tr>\n",
       "    <tr>\n",
       "      <th>11</th>\n",
       "      <td>EnjoyDebugging_Strongly agree</td>\n",
       "      <td>-1.320976e+17</td>\n",
       "      <td>1.320976e+17</td>\n",
       "    </tr>\n",
       "    <tr>\n",
       "      <th>9</th>\n",
       "      <td>EnjoyDebugging_Disagree</td>\n",
       "      <td>-1.320976e+17</td>\n",
       "      <td>1.320976e+17</td>\n",
       "    </tr>\n",
       "    <tr>\n",
       "      <th>17</th>\n",
       "      <td>RightWrongWay_Strongly disagree</td>\n",
       "      <td>6.539254e+16</td>\n",
       "      <td>6.539254e+16</td>\n",
       "    </tr>\n",
       "    <tr>\n",
       "      <th>14</th>\n",
       "      <td>RightWrongWay_Disagree</td>\n",
       "      <td>6.539254e+16</td>\n",
       "      <td>6.539254e+16</td>\n",
       "    </tr>\n",
       "    <tr>\n",
       "      <th>15</th>\n",
       "      <td>RightWrongWay_Somewhat agree</td>\n",
       "      <td>6.539254e+16</td>\n",
       "      <td>6.539254e+16</td>\n",
       "    </tr>\n",
       "    <tr>\n",
       "      <th>13</th>\n",
       "      <td>RightWrongWay_Agree</td>\n",
       "      <td>6.539254e+16</td>\n",
       "      <td>6.539254e+16</td>\n",
       "    </tr>\n",
       "    <tr>\n",
       "      <th>16</th>\n",
       "      <td>RightWrongWay_Strongly agree</td>\n",
       "      <td>6.539254e+16</td>\n",
       "      <td>6.539254e+16</td>\n",
       "    </tr>\n",
       "    <tr>\n",
       "      <th>6</th>\n",
       "      <td>ProblemSolving_Somewhat agree</td>\n",
       "      <td>-7.015911e+03</td>\n",
       "      <td>7.015911e+03</td>\n",
       "    </tr>\n",
       "    <tr>\n",
       "      <th>7</th>\n",
       "      <td>ProblemSolving_Strongly agree</td>\n",
       "      <td>3.858809e+03</td>\n",
       "      <td>3.858809e+03</td>\n",
       "    </tr>\n",
       "    <tr>\n",
       "      <th>5</th>\n",
       "      <td>ProblemSolving_Agree</td>\n",
       "      <td>-2.611324e+03</td>\n",
       "      <td>2.611324e+03</td>\n",
       "    </tr>\n",
       "  </tbody>\n",
       "</table>\n",
       "</div>"
      ],
      "text/plain": [
       "                             est_int         coefs     abs_coefs\n",
       "3   BoringDetails_Strongly agree     -1.517305e+17  1.517305e+17\n",
       "0   BoringDetails_Agree              -1.517305e+17  1.517305e+17\n",
       "2   BoringDetails_Somewhat agree     -1.517305e+17  1.517305e+17\n",
       "1   BoringDetails_Disagree           -1.517305e+17  1.517305e+17\n",
       "4   BoringDetails_Strongly disagree  -1.517305e+17  1.517305e+17\n",
       "12  EnjoyDebugging_Strongly disagree -1.320976e+17  1.320976e+17\n",
       "8   EnjoyDebugging_Agree             -1.320976e+17  1.320976e+17\n",
       "10  EnjoyDebugging_Somewhat agree    -1.320976e+17  1.320976e+17\n",
       "11  EnjoyDebugging_Strongly agree    -1.320976e+17  1.320976e+17\n",
       "9   EnjoyDebugging_Disagree          -1.320976e+17  1.320976e+17\n",
       "17  RightWrongWay_Strongly disagree   6.539254e+16  6.539254e+16\n",
       "14  RightWrongWay_Disagree            6.539254e+16  6.539254e+16\n",
       "15  RightWrongWay_Somewhat agree      6.539254e+16  6.539254e+16\n",
       "13  RightWrongWay_Agree               6.539254e+16  6.539254e+16\n",
       "16  RightWrongWay_Strongly agree      6.539254e+16  6.539254e+16\n",
       "6   ProblemSolving_Somewhat agree    -7.015911e+03  7.015911e+03\n",
       "7   ProblemSolving_Strongly agree     3.858809e+03  3.858809e+03\n",
       "5   ProblemSolving_Agree             -2.611324e+03  2.611324e+03"
      ]
     },
     "execution_count": 18,
     "metadata": {},
     "output_type": "execute_result"
    }
   ],
   "source": [
    "# Function to weight the coefficient's influence:\n",
    "coef_df = coef_weights(lm_model.coef_, X_train)\n",
    "\n",
    "# Showing results:\n",
    "coef_df"
   ]
  },
  {
   "cell_type": "markdown",
   "id": "388134d5",
   "metadata": {},
   "source": [
    "Looking at the weights of the independent variables of this linear regression, we cannot assume a direct correlation between one's salary and whole of the characteristics described by them.\n",
    "\n",
    "Therefore, in order to obtain some clarification, we shall look at the most notable variables individually: \"Attention to Details\" and the \"Pleasure in Debugging\":"
   ]
  },
  {
   "cell_type": "markdown",
   "id": "170dba05",
   "metadata": {},
   "source": [
    "#### CRISP-DM: Prepare Data\n",
    "\n",
    "Since the last results were not optimal, we had to go back some steps in the CRISP-DM process. Therefore another round of data preparation is needed."
   ]
  },
  {
   "cell_type": "code",
   "execution_count": null,
   "id": "e97579ff",
   "metadata": {},
   "outputs": [],
   "source": [
    "# BoringDetails:\n",
    "df1_sal_BD = sal_no_nan[['Salary','BoringDetails']]\n",
    "\n",
    "#Filling missing values with the mode:\n",
    "df1_sal_BD['BoringDetails'].fillna(df1_sal_BD['BoringDetails'].mode()[0],inplace=True)"
   ]
  },
  {
   "cell_type": "markdown",
   "id": "731c8d31",
   "metadata": {},
   "source": [
    "#### CRISP-DM: Data Modelling\n",
    "\n",
    "Creation of a data model in order to extract the results."
   ]
  },
  {
   "cell_type": "code",
   "execution_count": 38,
   "id": "99ab6736",
   "metadata": {},
   "outputs": [],
   "source": [
    "# Separating the data in order to get the influence of variables\n",
    "sal_BD = df1_sal_BD.groupby('BoringDetails').mean().sort_values('Salary')"
   ]
  },
  {
   "cell_type": "markdown",
   "id": "7663ff35",
   "metadata": {},
   "source": [
    "#### CRISP-DM: Evaluate the Results\n",
    "\n",
    "Having the results in hand, we are able evaluate the results and extract conclusions from them."
   ]
  },
  {
   "cell_type": "code",
   "execution_count": 40,
   "id": "e44fd8ed",
   "metadata": {},
   "outputs": [
    {
     "data": {
      "text/html": [
       "<div>\n",
       "<style scoped>\n",
       "    .dataframe tbody tr th:only-of-type {\n",
       "        vertical-align: middle;\n",
       "    }\n",
       "\n",
       "    .dataframe tbody tr th {\n",
       "        vertical-align: top;\n",
       "    }\n",
       "\n",
       "    .dataframe thead th {\n",
       "        text-align: right;\n",
       "    }\n",
       "</style>\n",
       "<table border=\"1\" class=\"dataframe\">\n",
       "  <thead>\n",
       "    <tr style=\"text-align: right;\">\n",
       "      <th></th>\n",
       "      <th>Salary</th>\n",
       "    </tr>\n",
       "    <tr>\n",
       "      <th>BoringDetails</th>\n",
       "      <th></th>\n",
       "    </tr>\n",
       "  </thead>\n",
       "  <tbody>\n",
       "    <tr>\n",
       "      <th>Strongly agree</th>\n",
       "      <td>50547.118729</td>\n",
       "    </tr>\n",
       "    <tr>\n",
       "      <th>Agree</th>\n",
       "      <td>52131.973683</td>\n",
       "    </tr>\n",
       "    <tr>\n",
       "      <th>Somewhat agree</th>\n",
       "      <td>53711.731087</td>\n",
       "    </tr>\n",
       "    <tr>\n",
       "      <th>Disagree</th>\n",
       "      <td>57399.809663</td>\n",
       "    </tr>\n",
       "    <tr>\n",
       "      <th>Strongly disagree</th>\n",
       "      <td>62663.088637</td>\n",
       "    </tr>\n",
       "  </tbody>\n",
       "</table>\n",
       "</div>"
      ],
      "text/plain": [
       "                         Salary\n",
       "BoringDetails                  \n",
       "Strongly agree     50547.118729\n",
       "Agree              52131.973683\n",
       "Somewhat agree     53711.731087\n",
       "Disagree           57399.809663\n",
       "Strongly disagree  62663.088637"
      ]
     },
     "execution_count": 40,
     "metadata": {},
     "output_type": "execute_result"
    }
   ],
   "source": [
    "# Plotting table\n",
    "sal_BD"
   ]
  },
  {
   "cell_type": "code",
   "execution_count": 20,
   "id": "5088327a",
   "metadata": {},
   "outputs": [
    {
     "data": {
      "image/png": "[encoded data removed]",
      "text/plain": [
       "<Figure size 432x288 with 1 Axes>"
      ]
     },
     "metadata": {
      "needs_background": "light"
     },
     "output_type": "display_data"
    }
   ],
   "source": [
    "# Plotting a bar plot for better visualization:\n",
    "(sal_BD).plot(kind=\"barh\",grid=True);\n",
    "plt.title('\"I find details boring\" x Salary Average');"
   ]
  },
  {
   "cell_type": "markdown",
   "id": "ffe51398",
   "metadata": {},
   "source": [
    "The results show that developers who are not bothered by details tend to earn bigger salaries."
   ]
  },
  {
   "cell_type": "markdown",
   "id": "121479b0",
   "metadata": {},
   "source": [
    "#### CRISP-DM: Prepare Data\n",
    "\n",
    "Since the last results were not optimal, we had to go back some steps in the CRISP-DM process. Therefore another round of data preparation is needed."
   ]
  },
  {
   "cell_type": "code",
   "execution_count": null,
   "id": "243a98f6",
   "metadata": {},
   "outputs": [],
   "source": [
    "# EnjoyDebugging:\n",
    "df1_sal_ED = sal_no_nan[['Salary','EnjoyDebugging']]\n",
    "#Filling missing values with the mode\n",
    "df1_sal_ED['EnjoyDebugging'].fillna(df1_sal_ED['EnjoyDebugging'].mode()[0],inplace=True)"
   ]
  },
  {
   "cell_type": "markdown",
   "id": "1b84eb91",
   "metadata": {},
   "source": [
    "#### CRISP-DM: Data Modelling\n",
    "\n",
    "Creation of a data model in order to extract the results."
   ]
  },
  {
   "cell_type": "code",
   "execution_count": null,
   "id": "58443a5e",
   "metadata": {},
   "outputs": [],
   "source": [
    "# Separating the data in order to get the influence of variables\n",
    "sal_ED = df1_sal_ED.groupby('EnjoyDebugging').mean().sort_values(by='Salary')\n",
    "new_index = ['Strongly agree','Agree','Somewhat agree','Disagree','Strongly disagree']\n",
    "sal_ED_correct = sal_ED.reindex(new_index)"
   ]
  },
  {
   "cell_type": "markdown",
   "id": "5834dfd7",
   "metadata": {},
   "source": [
    "#### CRISP-DM: Evaluate the Results\n",
    "\n",
    "Having the results in hand, we are able evaluate the results and extract conclusions from them."
   ]
  },
  {
   "cell_type": "code",
   "execution_count": 47,
   "id": "ca2e72c1",
   "metadata": {},
   "outputs": [
    {
     "data": {
      "text/html": [
       "<div>\n",
       "<style scoped>\n",
       "    .dataframe tbody tr th:only-of-type {\n",
       "        vertical-align: middle;\n",
       "    }\n",
       "\n",
       "    .dataframe tbody tr th {\n",
       "        vertical-align: top;\n",
       "    }\n",
       "\n",
       "    .dataframe thead th {\n",
       "        text-align: right;\n",
       "    }\n",
       "</style>\n",
       "<table border=\"1\" class=\"dataframe\">\n",
       "  <thead>\n",
       "    <tr style=\"text-align: right;\">\n",
       "      <th></th>\n",
       "      <th>Salary</th>\n",
       "    </tr>\n",
       "    <tr>\n",
       "      <th>EnjoyDebugging</th>\n",
       "      <th></th>\n",
       "    </tr>\n",
       "  </thead>\n",
       "  <tbody>\n",
       "    <tr>\n",
       "      <th>Strongly agree</th>\n",
       "      <td>55588.764535</td>\n",
       "    </tr>\n",
       "    <tr>\n",
       "      <th>Agree</th>\n",
       "      <td>55722.431402</td>\n",
       "    </tr>\n",
       "    <tr>\n",
       "      <th>Somewhat agree</th>\n",
       "      <td>58839.165416</td>\n",
       "    </tr>\n",
       "    <tr>\n",
       "      <th>Disagree</th>\n",
       "      <td>56045.525162</td>\n",
       "    </tr>\n",
       "    <tr>\n",
       "      <th>Strongly disagree</th>\n",
       "      <td>46925.349515</td>\n",
       "    </tr>\n",
       "  </tbody>\n",
       "</table>\n",
       "</div>"
      ],
      "text/plain": [
       "                         Salary\n",
       "EnjoyDebugging                 \n",
       "Strongly agree     55588.764535\n",
       "Agree              55722.431402\n",
       "Somewhat agree     58839.165416\n",
       "Disagree           56045.525162\n",
       "Strongly disagree  46925.349515"
      ]
     },
     "execution_count": 47,
     "metadata": {},
     "output_type": "execute_result"
    }
   ],
   "source": [
    "sal_ED_correct"
   ]
  },
  {
   "cell_type": "code",
   "execution_count": 22,
   "id": "16c0364f",
   "metadata": {},
   "outputs": [
    {
     "data": {
      "image/png": "[encoded data removed]",
      "text/plain": [
       "<Figure size 432x288 with 1 Axes>"
      ]
     },
     "metadata": {
      "needs_background": "light"
     },
     "output_type": "display_data"
    }
   ],
   "source": [
    "# Plotting a bar plot for better visualization:\n",
    "(sal_ED).plot(kind=\"barh\",grid=True);\n",
    "plt.title('\"I like debugging!\" x Salary Average');"
   ]
  },
  {
   "cell_type": "markdown",
   "id": "8c329378",
   "metadata": {},
   "source": [
    "The tendency to enjoy debugging does not seem to hurt one's salary, although the same cannot be said for people who have a strong deslike for it."
   ]
  },
  {
   "cell_type": "markdown",
   "id": "5cc59b09",
   "metadata": {},
   "source": [
    "### 2nd Question: Do satisfaction levels relates to the idea of being well paid?"
   ]
  },
  {
   "cell_type": "markdown",
   "id": "87db0846",
   "metadata": {},
   "source": [
    "#### CRISP-DM: Prepare Data\n",
    "\n",
    "Obtaining, preparing and formatting the data to be able to answer the proposed questions."
   ]
  },
  {
   "cell_type": "code",
   "execution_count": null,
   "id": "98f09bf0",
   "metadata": {
    "scrolled": true
   },
   "outputs": [],
   "source": [
    "# Creating the base dataframe:\n",
    "q2 = set(q2_X)|set(q2_y)\n",
    "df2 = df_d[q2]\n",
    "\n",
    "# Removing rows without information:\n",
    "df2.dropna(how='all',axis=0)"
   ]
  },
  {
   "cell_type": "code",
   "execution_count": 24,
   "id": "80f744a6",
   "metadata": {},
   "outputs": [
    {
     "data": {
      "text/html": [
       "<div>\n",
       "<style scoped>\n",
       "    .dataframe tbody tr th:only-of-type {\n",
       "        vertical-align: middle;\n",
       "    }\n",
       "\n",
       "    .dataframe tbody tr th {\n",
       "        vertical-align: top;\n",
       "    }\n",
       "\n",
       "    .dataframe thead th {\n",
       "        text-align: right;\n",
       "    }\n",
       "</style>\n",
       "<table border=\"1\" class=\"dataframe\">\n",
       "  <thead>\n",
       "    <tr style=\"text-align: right;\">\n",
       "      <th></th>\n",
       "      <th>Overpaid</th>\n",
       "      <th>CareerSatisfaction</th>\n",
       "      <th>JobSatisfaction</th>\n",
       "    </tr>\n",
       "    <tr>\n",
       "      <th>Respondent</th>\n",
       "      <th></th>\n",
       "      <th></th>\n",
       "      <th></th>\n",
       "    </tr>\n",
       "  </thead>\n",
       "  <tbody>\n",
       "    <tr>\n",
       "      <th>3</th>\n",
       "      <td>Neither underpaid nor overpaid</td>\n",
       "      <td>8.0</td>\n",
       "      <td>9.0</td>\n",
       "    </tr>\n",
       "    <tr>\n",
       "      <th>9</th>\n",
       "      <td>Neither underpaid nor overpaid</td>\n",
       "      <td>6.0</td>\n",
       "      <td>6.0</td>\n",
       "    </tr>\n",
       "    <tr>\n",
       "      <th>15</th>\n",
       "      <td>Somewhat underpaid</td>\n",
       "      <td>8.0</td>\n",
       "      <td>8.0</td>\n",
       "    </tr>\n",
       "    <tr>\n",
       "      <th>18</th>\n",
       "      <td>Neither underpaid nor overpaid</td>\n",
       "      <td>9.0</td>\n",
       "      <td>8.0</td>\n",
       "    </tr>\n",
       "    <tr>\n",
       "      <th>19</th>\n",
       "      <td>Somewhat overpaid</td>\n",
       "      <td>5.0</td>\n",
       "      <td>3.0</td>\n",
       "    </tr>\n",
       "    <tr>\n",
       "      <th>...</th>\n",
       "      <td>...</td>\n",
       "      <td>...</td>\n",
       "      <td>...</td>\n",
       "    </tr>\n",
       "    <tr>\n",
       "      <th>51372</th>\n",
       "      <td>Neither underpaid nor overpaid</td>\n",
       "      <td>7.0</td>\n",
       "      <td>7.0</td>\n",
       "    </tr>\n",
       "    <tr>\n",
       "      <th>51379</th>\n",
       "      <td>Neither underpaid nor overpaid</td>\n",
       "      <td>10.0</td>\n",
       "      <td>10.0</td>\n",
       "    </tr>\n",
       "    <tr>\n",
       "      <th>51383</th>\n",
       "      <td>Somewhat underpaid</td>\n",
       "      <td>9.0</td>\n",
       "      <td>5.0</td>\n",
       "    </tr>\n",
       "    <tr>\n",
       "      <th>51388</th>\n",
       "      <td>Greatly underpaid</td>\n",
       "      <td>7.0</td>\n",
       "      <td>3.0</td>\n",
       "    </tr>\n",
       "    <tr>\n",
       "      <th>51391</th>\n",
       "      <td>Greatly underpaid</td>\n",
       "      <td>6.0</td>\n",
       "      <td>7.0</td>\n",
       "    </tr>\n",
       "  </tbody>\n",
       "</table>\n",
       "<p>13387 rows × 3 columns</p>\n",
       "</div>"
      ],
      "text/plain": [
       "                                  Overpaid  CareerSatisfaction  \\\n",
       "Respondent                                                       \n",
       "3           Neither underpaid nor overpaid  8.0                  \n",
       "9           Neither underpaid nor overpaid  6.0                  \n",
       "15          Somewhat underpaid              8.0                  \n",
       "18          Neither underpaid nor overpaid  9.0                  \n",
       "19          Somewhat overpaid               5.0                  \n",
       "...                                    ...  ...                  \n",
       "51372       Neither underpaid nor overpaid  7.0                  \n",
       "51379       Neither underpaid nor overpaid  10.0                 \n",
       "51383       Somewhat underpaid              9.0                  \n",
       "51388       Greatly underpaid               7.0                  \n",
       "51391       Greatly underpaid               6.0                  \n",
       "\n",
       "            JobSatisfaction  \n",
       "Respondent                   \n",
       "3           9.0              \n",
       "9           6.0              \n",
       "15          8.0              \n",
       "18          8.0              \n",
       "19          3.0              \n",
       "...         ...              \n",
       "51372       7.0              \n",
       "51379       10.0             \n",
       "51383       5.0              \n",
       "51388       3.0              \n",
       "51391       7.0              \n",
       "\n",
       "[13387 rows x 3 columns]"
      ]
     },
     "execution_count": 24,
     "metadata": {},
     "output_type": "execute_result"
    }
   ],
   "source": [
    "# Removing NaN values from the \"Overpaid\" column:\n",
    "df2.dropna(subset=['Overpaid'],axis=0)"
   ]
  },
  {
   "cell_type": "markdown",
   "id": "b4f0a619",
   "metadata": {},
   "source": [
    "#### CRISP-DM: Data Modeling\n",
    "\n",
    "Creation of a data model in order to extract the results."
   ]
  },
  {
   "cell_type": "code",
   "execution_count": 48,
   "id": "1066a084",
   "metadata": {},
   "outputs": [],
   "source": [
    "# Checking the influence of the subcategories of \"Overpaid\" over \"CareerSatisfaction\":\n",
    "OP_CS = df2[['Overpaid','CareerSatisfaction']].groupby('Overpaid').mean().sort_values(by='CareerSatisfaction')"
   ]
  },
  {
   "cell_type": "markdown",
   "id": "f0779908",
   "metadata": {},
   "source": [
    "#### CRISP-DM: Evaluate the Results\n",
    "\n",
    "Having the results in hand, we are able evaluate the results and extract conclusions from them."
   ]
  },
  {
   "cell_type": "code",
   "execution_count": 49,
   "id": "bbc173ff",
   "metadata": {},
   "outputs": [
    {
     "data": {
      "text/html": [
       "<div>\n",
       "<style scoped>\n",
       "    .dataframe tbody tr th:only-of-type {\n",
       "        vertical-align: middle;\n",
       "    }\n",
       "\n",
       "    .dataframe tbody tr th {\n",
       "        vertical-align: top;\n",
       "    }\n",
       "\n",
       "    .dataframe thead th {\n",
       "        text-align: right;\n",
       "    }\n",
       "</style>\n",
       "<table border=\"1\" class=\"dataframe\">\n",
       "  <thead>\n",
       "    <tr style=\"text-align: right;\">\n",
       "      <th></th>\n",
       "      <th>CareerSatisfaction</th>\n",
       "    </tr>\n",
       "    <tr>\n",
       "      <th>Overpaid</th>\n",
       "      <th></th>\n",
       "    </tr>\n",
       "  </thead>\n",
       "  <tbody>\n",
       "    <tr>\n",
       "      <th>Greatly underpaid</th>\n",
       "      <td>6.744366</td>\n",
       "    </tr>\n",
       "    <tr>\n",
       "      <th>Somewhat underpaid</th>\n",
       "      <td>7.353803</td>\n",
       "    </tr>\n",
       "    <tr>\n",
       "      <th>Greatly overpaid</th>\n",
       "      <td>7.610000</td>\n",
       "    </tr>\n",
       "    <tr>\n",
       "      <th>Somewhat overpaid</th>\n",
       "      <td>7.762615</td>\n",
       "    </tr>\n",
       "    <tr>\n",
       "      <th>Neither underpaid nor overpaid</th>\n",
       "      <td>7.845181</td>\n",
       "    </tr>\n",
       "  </tbody>\n",
       "</table>\n",
       "</div>"
      ],
      "text/plain": [
       "                                CareerSatisfaction\n",
       "Overpaid                                          \n",
       "Greatly underpaid               6.744366          \n",
       "Somewhat underpaid              7.353803          \n",
       "Greatly overpaid                7.610000          \n",
       "Somewhat overpaid               7.762615          \n",
       "Neither underpaid nor overpaid  7.845181          "
      ]
     },
     "execution_count": 49,
     "metadata": {},
     "output_type": "execute_result"
    }
   ],
   "source": [
    "OP_CS"
   ]
  },
  {
   "cell_type": "code",
   "execution_count": 50,
   "id": "ab21490c",
   "metadata": {},
   "outputs": [
    {
     "data": {
      "image/png": "[encoded data removed]",
      "text/plain": [
       "<Figure size 432x288 with 1 Axes>"
      ]
     },
     "metadata": {
      "needs_background": "light"
     },
     "output_type": "display_data"
    }
   ],
   "source": [
    "(OP_CS).plot.barh(xlim=(0,12),legend=True,grid=True);\n",
    "plt.title('\"I am happy with my career\" x Salary Average');"
   ]
  },
  {
   "cell_type": "markdown",
   "id": "03e1c7d6",
   "metadata": {},
   "source": [
    "It seems that there is a direct link between the feeling of being overpaid and the satisfaction one's career brings."
   ]
  },
  {
   "cell_type": "markdown",
   "id": "3f9c2e02",
   "metadata": {},
   "source": [
    "#### CRISP-DM: Data Modeling\n",
    "\n",
    "Creation of a data model in order to extract the results."
   ]
  },
  {
   "cell_type": "code",
   "execution_count": 51,
   "id": "8487511c",
   "metadata": {},
   "outputs": [],
   "source": [
    "# Checking the influence of the subcategories of \"Overpaid\" over \"JobSatisfaction\":\n",
    "OP_JS = df2[['Overpaid','JobSatisfaction']].groupby('Overpaid').mean().sort_values(by='JobSatisfaction')"
   ]
  },
  {
   "cell_type": "markdown",
   "id": "fe35d96c",
   "metadata": {},
   "source": [
    "#### CRISP-DM: Evaluate the Results\n",
    "\n",
    "Having the results in hand, we are able evaluate the results and extract conclusions from them."
   ]
  },
  {
   "cell_type": "code",
   "execution_count": 44,
   "id": "be7baaf8",
   "metadata": {},
   "outputs": [
    {
     "data": {
      "text/html": [
       "<div>\n",
       "<style scoped>\n",
       "    .dataframe tbody tr th:only-of-type {\n",
       "        vertical-align: middle;\n",
       "    }\n",
       "\n",
       "    .dataframe tbody tr th {\n",
       "        vertical-align: top;\n",
       "    }\n",
       "\n",
       "    .dataframe thead th {\n",
       "        text-align: right;\n",
       "    }\n",
       "</style>\n",
       "<table border=\"1\" class=\"dataframe\">\n",
       "  <thead>\n",
       "    <tr style=\"text-align: right;\">\n",
       "      <th></th>\n",
       "      <th>JobSatisfaction</th>\n",
       "    </tr>\n",
       "    <tr>\n",
       "      <th>Overpaid</th>\n",
       "      <th></th>\n",
       "    </tr>\n",
       "  </thead>\n",
       "  <tbody>\n",
       "    <tr>\n",
       "      <th>Greatly underpaid</th>\n",
       "      <td>5.623067</td>\n",
       "    </tr>\n",
       "    <tr>\n",
       "      <th>Somewhat underpaid</th>\n",
       "      <td>6.776927</td>\n",
       "    </tr>\n",
       "    <tr>\n",
       "      <th>Greatly overpaid</th>\n",
       "      <td>6.950000</td>\n",
       "    </tr>\n",
       "    <tr>\n",
       "      <th>Somewhat overpaid</th>\n",
       "      <td>7.320690</td>\n",
       "    </tr>\n",
       "    <tr>\n",
       "      <th>Neither underpaid nor overpaid</th>\n",
       "      <td>7.515038</td>\n",
       "    </tr>\n",
       "  </tbody>\n",
       "</table>\n",
       "</div>"
      ],
      "text/plain": [
       "                                JobSatisfaction\n",
       "Overpaid                                       \n",
       "Greatly underpaid               5.623067       \n",
       "Somewhat underpaid              6.776927       \n",
       "Greatly overpaid                6.950000       \n",
       "Somewhat overpaid               7.320690       \n",
       "Neither underpaid nor overpaid  7.515038       "
      ]
     },
     "execution_count": 44,
     "metadata": {},
     "output_type": "execute_result"
    }
   ],
   "source": [
    "OP_JS"
   ]
  },
  {
   "cell_type": "code",
   "execution_count": 28,
   "id": "561f80ed",
   "metadata": {},
   "outputs": [
    {
     "data": {
      "image/png": "[encoded data removed]",
      "text/plain": [
       "<Figure size 432x288 with 1 Axes>"
      ]
     },
     "metadata": {
      "needs_background": "light"
     },
     "output_type": "display_data"
    }
   ],
   "source": [
    "(OP_JS).plot.barh(xlim=(0,10),legend=True,grid=True);\n",
    "plt.title('\"I am happy at my job\" x Salary Average');"
   ]
  },
  {
   "cell_type": "markdown",
   "id": "1645494e",
   "metadata": {},
   "source": [
    "The only conclusion we can draw from these results is that the satisfaction one feels doing a job is greatly harmed by the feeling of being underpaid, since the options \"Greatly underpaid\" and \"Somewhat underpaid\" were the ones that returned the lowest values for Job Satisfaction."
   ]
  },
  {
   "cell_type": "markdown",
   "id": "1b85311a",
   "metadata": {},
   "source": [
    "### 3rd Question: Do people who value a high level of job security feel that way because they are being better paid?"
   ]
  },
  {
   "cell_type": "markdown",
   "id": "893d3c8e",
   "metadata": {},
   "source": [
    "#### CRISP-DM: Prepare Data\n",
    "\n",
    "Obtaining, preparing and formatting the data to be able to answer the proposed questions."
   ]
  },
  {
   "cell_type": "code",
   "execution_count": 29,
   "id": "0ee948f4",
   "metadata": {},
   "outputs": [],
   "source": [
    "# Creating the base dataframe:\n",
    "q3_X = ['JobSecurity']\n",
    "q3_y_1 = ['Salary']\n",
    "q3_y_2 = ['Overpaid']\n",
    "\n",
    "q3_1 = set(q3_X)|set(q3_y_1)|set(q3_y_2)\n",
    "df3 = df_d[q3_1]"
   ]
  },
  {
   "cell_type": "markdown",
   "id": "a555f737",
   "metadata": {},
   "source": [
    "Checking what people define as overpaid x underpaid (explored out of curiosity):"
   ]
  },
  {
   "cell_type": "code",
   "execution_count": 30,
   "id": "c34f8241",
   "metadata": {},
   "outputs": [
    {
     "name": "stderr",
     "output_type": "stream",
     "text": [
      "C:\\Users\\pc\\AppData\\Local\\Temp/ipykernel_19148/3257047924.py:6: UserWarning: Boolean Series key will be reindexed to match DataFrame index.\n",
      "  clean_df = df3_nona_sal_op[df3_nona_sal_op['Overpaid']=='Greatly overpaid'][df3_nona_sal_op['Salary']<12000]\n",
      "c:\\python\\udemycorrection\\venv\\lib\\site-packages\\pandas\\core\\frame.py:4901: SettingWithCopyWarning: \n",
      "A value is trying to be set on a copy of a slice from a DataFrame\n",
      "\n",
      "See the caveats in the documentation: https://pandas.pydata.org/pandas-docs/stable/user_guide/indexing.html#returning-a-view-versus-a-copy\n",
      "  return super().drop(\n"
     ]
    }
   ],
   "source": [
    "# Removing NaN values for both Salary and Overpaid columns:\n",
    "df3_nona_sal_op = df3.dropna(subset=['Salary','Overpaid'],axis=0)\n",
    "\n",
    "# Removing outliers on the set that includes people who think they are \"greatly overpaid\" and that makes less than 12000\n",
    "# dollars per year (1000 USD per month)\n",
    "clean_df = df3_nona_sal_op[df3_nona_sal_op['Overpaid']=='Greatly overpaid'][df3_nona_sal_op['Salary']<12000]\n",
    "drop_list = clean_df.index\n",
    "df3_nona_sal_op.drop(index=drop_list,inplace=True)\n"
   ]
  },
  {
   "cell_type": "code",
   "execution_count": 31,
   "id": "ca60cfb0",
   "metadata": {},
   "outputs": [],
   "source": [
    "# Since our target is Job Security, and this variable is an opinion, we'll remove the NaN values due to the subjectivity\n",
    "# of this variable.\n",
    "df3_final = df3_nona_sal_op.dropna(subset=['JobSecurity'],axis=0)\n"
   ]
  },
  {
   "cell_type": "markdown",
   "id": "f7732bdf",
   "metadata": {},
   "source": [
    "First, we will check the avarage values that define what the subjects in the sample think about their income, that is,\n",
    "the relation between salary and the feeling of being overpaid."
   ]
  },
  {
   "cell_type": "code",
   "execution_count": 32,
   "id": "efa6c93f",
   "metadata": {},
   "outputs": [
    {
     "data": {
      "text/html": [
       "<div>\n",
       "<style scoped>\n",
       "    .dataframe tbody tr th:only-of-type {\n",
       "        vertical-align: middle;\n",
       "    }\n",
       "\n",
       "    .dataframe tbody tr th {\n",
       "        vertical-align: top;\n",
       "    }\n",
       "\n",
       "    .dataframe thead th {\n",
       "        text-align: right;\n",
       "    }\n",
       "</style>\n",
       "<table border=\"1\" class=\"dataframe\">\n",
       "  <thead>\n",
       "    <tr style=\"text-align: right;\">\n",
       "      <th></th>\n",
       "      <th>Salary</th>\n",
       "    </tr>\n",
       "    <tr>\n",
       "      <th>Overpaid</th>\n",
       "      <th></th>\n",
       "    </tr>\n",
       "  </thead>\n",
       "  <tbody>\n",
       "    <tr>\n",
       "      <th>Greatly underpaid</th>\n",
       "      <td>37050.917798</td>\n",
       "    </tr>\n",
       "    <tr>\n",
       "      <th>Somewhat underpaid</th>\n",
       "      <td>54324.142076</td>\n",
       "    </tr>\n",
       "    <tr>\n",
       "      <th>Neither underpaid nor overpaid</th>\n",
       "      <td>63045.899606</td>\n",
       "    </tr>\n",
       "    <tr>\n",
       "      <th>Somewhat overpaid</th>\n",
       "      <td>72510.748482</td>\n",
       "    </tr>\n",
       "    <tr>\n",
       "      <th>Greatly overpaid</th>\n",
       "      <td>74477.185417</td>\n",
       "    </tr>\n",
       "  </tbody>\n",
       "</table>\n",
       "</div>"
      ],
      "text/plain": [
       "                                      Salary\n",
       "Overpaid                                    \n",
       "Greatly underpaid               37050.917798\n",
       "Somewhat underpaid              54324.142076\n",
       "Neither underpaid nor overpaid  63045.899606\n",
       "Somewhat overpaid               72510.748482\n",
       "Greatly overpaid                74477.185417"
      ]
     },
     "execution_count": 32,
     "metadata": {},
     "output_type": "execute_result"
    }
   ],
   "source": [
    "df3_final[['Overpaid','Salary']].groupby('Overpaid').mean().sort_values(by='Salary')"
   ]
  },
  {
   "cell_type": "markdown",
   "id": "ad3a3e9e",
   "metadata": {},
   "source": [
    "Next, we will do the same check for the variables Salary and JobSecurity (also done out of curiosity)."
   ]
  },
  {
   "cell_type": "code",
   "execution_count": 33,
   "id": "8eb6af32",
   "metadata": {},
   "outputs": [
    {
     "data": {
      "text/html": [
       "<div>\n",
       "<style scoped>\n",
       "    .dataframe tbody tr th:only-of-type {\n",
       "        vertical-align: middle;\n",
       "    }\n",
       "\n",
       "    .dataframe tbody tr th {\n",
       "        vertical-align: top;\n",
       "    }\n",
       "\n",
       "    .dataframe thead th {\n",
       "        text-align: right;\n",
       "    }\n",
       "</style>\n",
       "<table border=\"1\" class=\"dataframe\">\n",
       "  <thead>\n",
       "    <tr style=\"text-align: right;\">\n",
       "      <th></th>\n",
       "      <th>Salary</th>\n",
       "    </tr>\n",
       "    <tr>\n",
       "      <th>JobSecurity</th>\n",
       "      <th></th>\n",
       "    </tr>\n",
       "  </thead>\n",
       "  <tbody>\n",
       "    <tr>\n",
       "      <th>Strongly disagree</th>\n",
       "      <td>54581.724321</td>\n",
       "    </tr>\n",
       "    <tr>\n",
       "      <th>Somewhat agree</th>\n",
       "      <td>55841.216863</td>\n",
       "    </tr>\n",
       "    <tr>\n",
       "      <th>Agree</th>\n",
       "      <td>56489.385971</td>\n",
       "    </tr>\n",
       "    <tr>\n",
       "      <th>Strongly agree</th>\n",
       "      <td>57929.232909</td>\n",
       "    </tr>\n",
       "    <tr>\n",
       "      <th>Disagree</th>\n",
       "      <td>58325.922381</td>\n",
       "    </tr>\n",
       "  </tbody>\n",
       "</table>\n",
       "</div>"
      ],
      "text/plain": [
       "                         Salary\n",
       "JobSecurity                    \n",
       "Strongly disagree  54581.724321\n",
       "Somewhat agree     55841.216863\n",
       "Agree              56489.385971\n",
       "Strongly agree     57929.232909\n",
       "Disagree           58325.922381"
      ]
     },
     "execution_count": 33,
     "metadata": {},
     "output_type": "execute_result"
    }
   ],
   "source": [
    "JS_sal = df3_final[['JobSecurity','Salary']].groupby('JobSecurity').mean().sort_values(by='Salary')\n",
    "JS_sal"
   ]
  },
  {
   "cell_type": "code",
   "execution_count": 34,
   "id": "193b8bad",
   "metadata": {},
   "outputs": [
    {
     "data": {
      "image/png": "[encoded data removed]",
      "text/plain": [
       "<Figure size 432x288 with 1 Axes>"
      ]
     },
     "metadata": {
      "needs_background": "light"
     },
     "output_type": "display_data"
    }
   ],
   "source": [
    "(JS_sal).plot.barh(grid=True,xlim=(0,72000));\n",
    "plt.title('\"Job security is essential for me\" x Percentage of people');"
   ]
  },
  {
   "cell_type": "markdown",
   "id": "f9091d19",
   "metadata": {},
   "source": [
    "The salary avarage differences are negligible between the subcategories of in \"JobSecurity\"."
   ]
  },
  {
   "cell_type": "markdown",
   "id": "5b743307",
   "metadata": {},
   "source": [
    "#### CRISP-DM: Data Modeling\n",
    "\n",
    "Creation of a data model in order to extract the results."
   ]
  },
  {
   "cell_type": "code",
   "execution_count": 52,
   "id": "3aca59da",
   "metadata": {},
   "outputs": [],
   "source": [
    "# Creating dummies in order to analyze the weight of \"Overpaid\" on \"JobSecurity\":\n",
    "df3_JS_OP = create_dummy_df(df3_final[['JobSecurity','Overpaid']], ['Overpaid'], dummy_na=False)\n",
    "q3_out = df3_JS_OP.groupby('JobSecurity').sum()\n",
    "\n",
    "# Transforming the sums into percentages of the subsets in \"Overpaid\":\n",
    "col_perc = lambda col:(col/col.sum())*100\n",
    "q3_perc=q3_out.apply(col_perc)\n",
    "\n",
    "# Rearranging the index for easier analysis:\n",
    "set_index = ['Strongly agree','Agree','Somewhat agree','Disagree','Strongly disagree']\n",
    "q3_plot = q3_perc.reindex(set_index)\n",
    "# Renaming the columns:\n",
    "q3_plot.rename(columns={'Overpaid_Greatly overpaid':'Greatly overpaid', 'Overpaid_Greatly underpaid':'Greatly underpaid',\n",
    "       'Overpaid_Neither underpaid nor overpaid':'Neither underpaid nor overpaid', 'Overpaid_Somewhat overpaid':'Somewhat overpaid',\n",
    "       'Overpaid_Somewhat underpaid':'Somewhat underpaid'},inplace=True)\n",
    "# Rounding the percentages:\n",
    "q3_final = q3_plot.round(2)\n"
   ]
  },
  {
   "cell_type": "markdown",
   "id": "13c2f500",
   "metadata": {},
   "source": [
    "#### CRISP-DM: Evaluate the Results\n",
    "\n",
    "Having the results in hand, we are able evaluate the results and extract conclusions from them."
   ]
  },
  {
   "cell_type": "code",
   "execution_count": 53,
   "id": "7393576e",
   "metadata": {},
   "outputs": [
    {
     "data": {
      "text/html": [
       "<div>\n",
       "<style scoped>\n",
       "    .dataframe tbody tr th:only-of-type {\n",
       "        vertical-align: middle;\n",
       "    }\n",
       "\n",
       "    .dataframe tbody tr th {\n",
       "        vertical-align: top;\n",
       "    }\n",
       "\n",
       "    .dataframe thead th {\n",
       "        text-align: right;\n",
       "    }\n",
       "</style>\n",
       "<table border=\"1\" class=\"dataframe\">\n",
       "  <thead>\n",
       "    <tr style=\"text-align: right;\">\n",
       "      <th></th>\n",
       "      <th>Greatly overpaid</th>\n",
       "      <th>Greatly underpaid</th>\n",
       "      <th>Neither underpaid nor overpaid</th>\n",
       "      <th>Somewhat overpaid</th>\n",
       "      <th>Somewhat underpaid</th>\n",
       "    </tr>\n",
       "    <tr>\n",
       "      <th>JobSecurity</th>\n",
       "      <th></th>\n",
       "      <th></th>\n",
       "      <th></th>\n",
       "      <th></th>\n",
       "      <th></th>\n",
       "    </tr>\n",
       "  </thead>\n",
       "  <tbody>\n",
       "    <tr>\n",
       "      <th>Strongly agree</th>\n",
       "      <td>24.0</td>\n",
       "      <td>26.96</td>\n",
       "      <td>23.14</td>\n",
       "      <td>26.20</td>\n",
       "      <td>23.57</td>\n",
       "    </tr>\n",
       "    <tr>\n",
       "      <th>Agree</th>\n",
       "      <td>42.0</td>\n",
       "      <td>37.16</td>\n",
       "      <td>44.33</td>\n",
       "      <td>41.44</td>\n",
       "      <td>44.26</td>\n",
       "    </tr>\n",
       "    <tr>\n",
       "      <th>Somewhat agree</th>\n",
       "      <td>20.0</td>\n",
       "      <td>25.49</td>\n",
       "      <td>24.93</td>\n",
       "      <td>21.92</td>\n",
       "      <td>24.00</td>\n",
       "    </tr>\n",
       "    <tr>\n",
       "      <th>Disagree</th>\n",
       "      <td>8.0</td>\n",
       "      <td>7.94</td>\n",
       "      <td>6.69</td>\n",
       "      <td>8.56</td>\n",
       "      <td>7.18</td>\n",
       "    </tr>\n",
       "    <tr>\n",
       "      <th>Strongly disagree</th>\n",
       "      <td>6.0</td>\n",
       "      <td>2.45</td>\n",
       "      <td>0.91</td>\n",
       "      <td>1.88</td>\n",
       "      <td>1.00</td>\n",
       "    </tr>\n",
       "  </tbody>\n",
       "</table>\n",
       "</div>"
      ],
      "text/plain": [
       "                   Greatly overpaid  Greatly underpaid  \\\n",
       "JobSecurity                                              \n",
       "Strongly agree     24.0              26.96               \n",
       "Agree              42.0              37.16               \n",
       "Somewhat agree     20.0              25.49               \n",
       "Disagree           8.0               7.94                \n",
       "Strongly disagree  6.0               2.45                \n",
       "\n",
       "                   Neither underpaid nor overpaid  Somewhat overpaid  \\\n",
       "JobSecurity                                                            \n",
       "Strongly agree     23.14                           26.20               \n",
       "Agree              44.33                           41.44               \n",
       "Somewhat agree     24.93                           21.92               \n",
       "Disagree           6.69                            8.56                \n",
       "Strongly disagree  0.91                            1.88                \n",
       "\n",
       "                   Somewhat underpaid  \n",
       "JobSecurity                            \n",
       "Strongly agree     23.57               \n",
       "Agree              44.26               \n",
       "Somewhat agree     24.00               \n",
       "Disagree           7.18                \n",
       "Strongly disagree  1.00                "
      ]
     },
     "execution_count": 53,
     "metadata": {},
     "output_type": "execute_result"
    }
   ],
   "source": [
    "q3_final"
   ]
  },
  {
   "cell_type": "markdown",
   "id": "1c60f626",
   "metadata": {},
   "source": [
    "From these results, we can see that the percentages of people who have a determined opinion about Job Security do not vary considerably between subcategories of \"Overpaid\", therefore we can conclude that the feeling of having a safe job is not related to how well one thinks he/she is being paid, but is more linked to the general feeling of the population."
   ]
  },
  {
   "cell_type": "code",
   "execution_count": 36,
   "id": "eab7cd44",
   "metadata": {},
   "outputs": [
    {
     "data": {
      "image/png": "[encoded data removed]",
      "text/plain": [
       "<Figure size 576x432 with 1 Axes>"
      ]
     },
     "metadata": {
      "needs_background": "light"
     },
     "output_type": "display_data"
    }
   ],
   "source": [
    "(q3_plot).plot.barh(xlim=(0,48),figsize=(8,6),legend=True,grid=True,xticks=range(0,49,4));\n",
    "plt.title('\"Job security is essential for me\" x Percentage of people');"
   ]
  }
 ],
 "metadata": {
  "kernelspec": {
   "display_name": "Python 3 (ipykernel)",
   "language": "python",
   "name": "python3"
  },
  "language_info": {
   "codemirror_mode": {
    "name": "ipython",
    "version": 3
   },
   "file_extension": ".py",
   "mimetype": "text/x-python",
   "name": "python",
   "nbconvert_exporter": "python",
   "pygments_lexer": "ipython3",
   "version": "3.9.1"
  }
 },
 "nbformat": 4,
 "nbformat_minor": 5
}
